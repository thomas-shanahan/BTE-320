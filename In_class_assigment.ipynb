{
  "nbformat": 4,
  "nbformat_minor": 0,
  "metadata": {
    "colab": {
      "provenance": [],
      "authorship_tag": "ABX9TyP+hlGmH5m58Zxbf1bLAwLe",
      "include_colab_link": true
    },
    "kernelspec": {
      "name": "python3",
      "display_name": "Python 3"
    },
    "language_info": {
      "name": "python"
    }
  },
  "cells": [
    {
      "cell_type": "markdown",
      "metadata": {
        "id": "view-in-github",
        "colab_type": "text"
      },
      "source": [
        "<a href=\"https://colab.research.google.com/github/thomas-shanahan/BTE-320/blob/main/In_class_assigment.ipynb\" target=\"_parent\"><img src=\"https://colab.research.google.com/assets/colab-badge.svg\" alt=\"Open In Colab\"/></a>"
      ]
    },
    {
      "cell_type": "code",
      "source": [
        "# Inputs: sales, cogs_pct, and tax rate\n",
        "sales = input(\"Enter sales ($): \")\n",
        "sales = float(sales)\n",
        "\n",
        "cogs_pct = input(\"Enter Cost of Goods Sold (%): \")\n",
        "cogs_pct = float(cogs_pct)\n",
        "\n",
        "rate= input(\"Enter tax rate (%): \")\n",
        "rate = float(rate)\n",
        "\n",
        "#Processes: caluclate actual cost of goods sold, taxes, and net income\n",
        "cogs = sales * cogs_pct /100\n",
        "grossProfit = sales - cogs\n",
        "taxes = grossProfit * (rate / 100)\n",
        "netIncome = grossProfit - taxes\n",
        "\n",
        "#output: display cogs and grossProfit\n",
        "print(f\"Cost of Goods sold: ${cogs}\")\n",
        "print(f\"Gross Profit: ${grossProfit}\")\n",
        "print(f\"taxes: ${taxes}\")\n",
        "print(f\"Net Income: ${netIncome}\")"
      ],
      "metadata": {
        "colab": {
          "base_uri": "https://localhost:8080/"
        },
        "id": "wWB0MTwZiJpt",
        "outputId": "0eb2aee5-3252-4551-94c9-76467b694f0b"
      },
      "execution_count": null,
      "outputs": [
        {
          "output_type": "stream",
          "name": "stdout",
          "text": [
            "Enter sales ($): 12000\n",
            "Enter Cost of Goods Sold (%): 40\n",
            "Enter tax rate (%): 30\n",
            "Cost of Goods sold: $4800.0\n",
            "Gross Profit: $7200.0\n",
            "taxes: $2160.0\n",
            "Net Income: $5040.0\n"
          ]
        }
      ]
    },
    {
      "cell_type": "code",
      "source": [
        "# Inputs\n",
        "demand = int(input(\"Enter demand (units/year): \"))\n",
        "reorder = float(input(\"Enter reorder cost ($/unit): \"))\n",
        "holding = float(input(\"Enter holding cost ($/unit/year): \"))\n",
        "\n",
        "#Processes\n",
        "eoq = (2 * demand * reorder / holding) ** 0.5\n",
        "\n",
        "#Output\n",
        "print(f\"EOQ: {eoq} units\")"
      ],
      "metadata": {
        "colab": {
          "base_uri": "https://localhost:8080/"
        },
        "id": "7NXOwCQDLXmI",
        "outputId": "71fe23c1-e10a-4c85-8b65-d1101515d6cc"
      },
      "execution_count": null,
      "outputs": [
        {
          "output_type": "stream",
          "name": "stdout",
          "text": [
            "Enter demand (units/year): 100\n",
            "Enter reorder cost ($/unit): 1.5\n",
            "Enter holding cost ($/unit/year): 3\n",
            "EOQ: 10.0 units\n"
          ]
        }
      ]
    },
    {
      "cell_type": "code",
      "source": [
        "n1 = float(input(\"Enter n1: \"))\n",
        "n2 = float(input(\"Enter n2: \"))\n",
        "op = input(\"Enter operator (+, -, *, /, //, **, %): \")\n",
        "\n",
        "\n",
        "if op == \"+\":\n",
        "  res = n1 + n2\n",
        "elif op == \"-\":\n",
        "  res = n1 - n2\n",
        "elif op == \"*\":\n",
        "  res = n1 * n2\n",
        "elif op == \"/\":\n",
        "  res = n1 / n2\n",
        "elif op == \"//\":\n",
        "  res = n1 // n2\n",
        "elif op == \"**\":\n",
        "  res = n1 ** n2\n",
        "elif op == \"%\":\n",
        "  res = n1 % n2\n",
        "else:\n",
        "  res = None\n",
        "  print(\"Invalid operator\")\n",
        "\n",
        "print(f\"result: {res}\")"
      ],
      "metadata": {
        "colab": {
          "base_uri": "https://localhost:8080/"
        },
        "id": "CuHN1-IjON3d",
        "outputId": "7a49ab6d-5f1f-4a5f-a573-56316beae646"
      },
      "execution_count": null,
      "outputs": [
        {
          "output_type": "stream",
          "name": "stdout",
          "text": [
            "Enter n1: 5\n",
            "Enter n2: 6\n",
            "Enter operator (+, -, *, /, //, **, %): *\n",
            "result: 30.0\n"
          ]
        }
      ]
    },
    {
      "cell_type": "code",
      "source": [
        "print(\"Hours   Fee\")\n",
        "for hour in range(1, 9):\n",
        "  fee = 5 + 2.5 * hour\n",
        "  if fee < 10:\n",
        "    fee = 10.0\n",
        "  elif fee > 20:\n",
        "    fee = 20.0\n",
        "  print(f\"{hour}\\t{fee}\")"
      ],
      "metadata": {
        "colab": {
          "base_uri": "https://localhost:8080/"
        },
        "id": "HlNNJZn_hkMo",
        "outputId": "82b6f848-a279-4953-e371-2de8b6879c31"
      },
      "execution_count": null,
      "outputs": [
        {
          "output_type": "stream",
          "name": "stdout",
          "text": [
            "Hours   Fee\n",
            "1\t10.0\n",
            "2\t10.0\n",
            "3\t12.5\n",
            "4\t15.0\n",
            "5\t17.5\n",
            "6\t20.0\n",
            "7\t20.0\n",
            "8\t20.0\n"
          ]
        }
      ]
    },
    {
      "cell_type": "code",
      "source": [
        "for ad in range(0, 201, 25):\n",
        "  revenue = 20 * 10 + 10 * 2 * ad ** 0.5\n",
        "  expenses = 200 + ad\n",
        "  profit = revenue - expenses\n",
        "  print(ad, round(profit))"
      ],
      "metadata": {
        "id": "5zMIsG7ajsWL",
        "colab": {
          "base_uri": "https://localhost:8080/"
        },
        "outputId": "7be9905c-1836-4b1c-d58b-e7a0aa16cd49"
      },
      "execution_count": null,
      "outputs": [
        {
          "output_type": "stream",
          "name": "stdout",
          "text": [
            "0 0\n",
            "25 75\n",
            "50 91\n",
            "75 98\n",
            "100 100\n",
            "125 99\n",
            "150 95\n",
            "175 90\n",
            "200 83\n"
          ]
        }
      ]
    },
    {
      "cell_type": "code",
      "source": [
        "L = []\n",
        "num = float(input(\"Give a number: \"))\n",
        "\n",
        "while num != 0:\n",
        "  L.append(num)\n",
        "  num = float(input(\"Give another number: \"))\n",
        "\n",
        "L.sort(reverse=True)\n",
        "print(L)"
      ],
      "metadata": {
        "colab": {
          "base_uri": "https://localhost:8080/"
        },
        "id": "B5EQstC2x4_d",
        "outputId": "f657e992-6394-4313-e717-7bc116e78e26"
      },
      "execution_count": null,
      "outputs": [
        {
          "output_type": "stream",
          "name": "stdout",
          "text": [
            "Give a number: 5\n",
            "Give another number: 6\n",
            "Give another number: 1\n",
            "Give another number: 8\n",
            "Give another number: 0\n",
            "[8.0, 6.0, 5.0, 1.0]\n"
          ]
        }
      ]
    },
    {
      "cell_type": "code",
      "source": [
        "import random\n",
        "\n",
        "while True:\n",
        "  play = input('Do you want to play a game (y/n)?').lower()\n",
        "  if play != 'y':\n",
        "    break\n",
        "\n",
        "  # Rock, paper, scissors game here...\n",
        "  user_choice = input('Choose between rock, paper, scissors: ')\n",
        "  pc_choice = random.choice(['rock', 'paper', 'scissors'])\n",
        "  print(f'User: {user_choice}, Computer:{pc_choice}')\n",
        "\n",
        "  if user_choice == pc_choice:\n",
        "    print('Tie')\n",
        "  elif (\n",
        "      (user_choice == 'rock' and pc_choice == 'scissors') or\n",
        "      (user_choice == 'scissors' and pc_choice == 'paper')or\n",
        "      (user_choice == 'paper' and pc_choice == 'rock')\n",
        "      ):\n",
        "      print('User wins')\n",
        "  else:\n",
        "    print('Computer wins')\n"
      ],
      "metadata": {
        "id": "SCT37z8te0IA",
        "colab": {
          "base_uri": "https://localhost:8080/"
        },
        "outputId": "78545643-69fd-4399-d61c-f522ff92fdbc"
      },
      "execution_count": 5,
      "outputs": [
        {
          "name": "stdout",
          "output_type": "stream",
          "text": [
            "Do you want to play a game (y/n)?y\n",
            "Choose between rock, paper, scissors: rock\n",
            "User: rock, Computer:scissors\n",
            "User wins\n",
            "Do you want to play a game (y/n)?y\n",
            "Choose between rock, paper, scissors: paper\n",
            "User: paper, Computer:paper\n",
            "Tie\n",
            "Do you want to play a game (y/n)?n\n"
          ]
        }
      ]
    },
    {
      "cell_type": "code",
      "source": [],
      "metadata": {
        "id": "391XtzGDq0g2"
      },
      "execution_count": null,
      "outputs": []
    }
  ]
}